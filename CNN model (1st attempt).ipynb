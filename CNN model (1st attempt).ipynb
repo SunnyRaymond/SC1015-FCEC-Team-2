{
 "cells": [
  {
   "cell_type": "code",
   "execution_count": 1,
   "id": "7893ed0b-7e1d-49e9-9066-8f70508715b2",
   "metadata": {},
   "outputs": [],
   "source": [
    "import pandas as pd\n",
    "import sklearn\n",
    "import torch\n",
    "import matplotlib.pyplot as plt\n",
    "import seaborn as sns"
   ]
  },
  {
   "cell_type": "code",
   "execution_count": 2,
   "id": "7d2606a7-8e73-469c-abc9-0b7118b50387",
   "metadata": {},
   "outputs": [
    {
     "name": "stdout",
     "output_type": "stream",
     "text": [
      "['PassengerId', 'Pclass', 'SibSp', 'Parch', 'Fare']\n"
     ]
    }
   ],
   "source": [
    "Train_Data = pd.read_csv('train.csv')\n",
    "Numeric_list = Train_Data.select_dtypes(include=['int', 'float']).columns.tolist()\n",
    "\n",
    "\n",
    "\n",
    "Numeric_list.remove('Survived')\n",
    "Numeric_list.remove('Age')\n",
    "\n",
    "print(Numeric_list)"
   ]
  },
  {
   "cell_type": "code",
   "execution_count": 3,
   "id": "7db7c0d8-20ae-4886-97f9-447209a7d481",
   "metadata": {},
   "outputs": [
    {
     "name": "stdout",
     "output_type": "stream",
     "text": [
      "Point-Biserial Correlation Coefficient between Survival and PassengerId: -0.005006660767066509\n",
      "P-value: 0.8813657768798073\n",
      "\n",
      "Point-Biserial Correlation Coefficient between Survival and Pclass: -0.3384810359610153\n",
      "P-value: 2.537047387981485e-25\n",
      "\n",
      "Point-Biserial Correlation Coefficient between Survival and SibSp: -0.03532249888573556\n",
      "P-value: 0.29224392869829624\n",
      "\n",
      "Point-Biserial Correlation Coefficient between Survival and Parch: 0.08162940708348347\n",
      "P-value: 0.014799245374727947\n",
      "\n",
      "Point-Biserial Correlation Coefficient between Survival and Fare: 0.2573065223849624\n",
      "P-value: 6.120189341924608e-15\n",
      "\n"
     ]
    }
   ],
   "source": [
    "from scipy import stats\n",
    "\n",
    "# Assuming 'numeric_variable' is your numeric variable and 'categorical_variable' is your categorical variable\n",
    "\n",
    "# Calculate point-biserial correlation coefficient\n",
    "\n",
    "for i in range(len(Numeric_list)):\n",
    "    correlation, p_value = stats.pointbiserialr(Train_Data[Numeric_list[i]], Train_Data['Survived'])\n",
    "    \n",
    "    print(\"Point-Biserial Correlation Coefficient between Survival and \" + Numeric_list[i] + \":\", correlation)\n",
    "    print(\"P-value:\", p_value)\n",
    "    print()\n",
    "\n"
   ]
  },
  {
   "cell_type": "code",
   "execution_count": 4,
   "id": "ad543e8d-89e0-47fb-a78b-526e06575bec",
   "metadata": {},
   "outputs": [
    {
     "name": "stdout",
     "output_type": "stream",
     "text": [
      "['Name', 'Sex', 'Ticket', 'Embarked']\n"
     ]
    }
   ],
   "source": [
    "import numpy as np\n",
    "Categorical_list = Train_Data.select_dtypes(include=['object']).columns.tolist()\n",
    "Categorical_list.remove('Cabin')\n",
    "\n",
    "print(Categorical_list)\n",
    "\n"
   ]
  },
  {
   "cell_type": "code",
   "execution_count": 5,
   "id": "df1f208d-e689-497c-966a-b5d1cb9b2c1f",
   "metadata": {},
   "outputs": [
    {
     "name": "stdout",
     "output_type": "stream",
     "text": [
      "Chi-square test statistic: 891.0\n",
      "P-value: 0.484248151973633\n",
      "Cramer's V between Survival and Name: 1.0\n",
      "\n",
      "Chi-square test statistic: 260.71702016732104\n",
      "P-value: 1.1973570627755645e-58\n",
      "Cramer's V between Survival and Sex: 0.5409359434469282\n",
      "\n",
      "Chi-square test statistic: 766.5697029458893\n",
      "P-value: 0.01152729601163775\n",
      "Cramer's V between Survival and Ticket: 0.9275492387400215\n",
      "\n",
      "Chi-square test statistic: 26.48914983923762\n",
      "P-value: 1.769922284120912e-06\n",
      "Cramer's V between Survival and Embarked: 0.17261682709984438\n",
      "\n"
     ]
    }
   ],
   "source": [
    "from scipy.stats import chi2_contingency\n",
    "from scipy.stats import chi2\n",
    "\n",
    "# Assuming 'categorical_var1' and 'categorical_var2' are your categorical variables\n",
    "\n",
    "# Create a contingency table\n",
    "\n",
    "for j in range(len(Categorical_list)):\n",
    "    contingency_table = pd.crosstab(Train_Data[Categorical_list[j]], Train_Data['Survived'])\n",
    "    \n",
    "    # Perform the Chi-square test\n",
    "    chi2_stat, p_val, _, _ = chi2_contingency(contingency_table)\n",
    "    \n",
    "    # Determine the degree of association using Cramer's V\n",
    "    n = contingency_table.sum().sum()\n",
    "    min_dim = min(contingency_table.shape) - 1\n",
    "    cramer_v = np.sqrt(chi2_stat / (n * min_dim))\n",
    "    \n",
    "    print(\"Chi-square test statistic:\", chi2_stat)\n",
    "    print(\"P-value:\", p_val)\n",
    "    print(\"Cramer's V between Survival and \" + Categorical_list[j] + \":\", cramer_v)\n",
    "    print()\n"
   ]
  },
  {
   "cell_type": "code",
   "execution_count": 6,
   "id": "7c6414cd-6bf8-420a-949a-97eff7243411",
   "metadata": {},
   "outputs": [
    {
     "data": {
      "text/plain": [
       "'cpu'"
      ]
     },
     "execution_count": 6,
     "metadata": {},
     "output_type": "execute_result"
    }
   ],
   "source": [
    "from torch import nn\n",
    "\n",
    "# Make device agnostic code\n",
    "device = \"cuda\" if torch.cuda.is_available() else \"cpu\"\n",
    "device"
   ]
  },
  {
   "cell_type": "code",
   "execution_count": 7,
   "id": "bd787af7-377e-4add-a29e-4e7c956632f4",
   "metadata": {},
   "outputs": [
    {
     "name": "stdout",
     "output_type": "stream",
     "text": [
      "Epoch [100/1000], Loss: 0.5652\n",
      "Epoch [200/1000], Loss: 0.5599\n",
      "Epoch [300/1000], Loss: 0.5571\n",
      "Epoch [400/1000], Loss: 0.5535\n",
      "Epoch [500/1000], Loss: 0.5508\n",
      "Epoch [600/1000], Loss: 0.5482\n",
      "Epoch [700/1000], Loss: 0.5500\n",
      "Epoch [800/1000], Loss: 0.5396\n",
      "Epoch [900/1000], Loss: 0.5378\n",
      "Epoch [1000/1000], Loss: 0.5361\n",
      "Test Loss: 0.6271\n"
     ]
    }
   ],
   "source": [
    "import torch.nn as nn\n",
    "import torch.optim as optim\n",
    "from sklearn.model_selection import train_test_split\n",
    "from sklearn.preprocessing import StandardScaler\n",
    "\n",
    "Extracted_features = ['Pclass', 'Fare'] #'Name', 'Ticket'],\n",
    "Response = 'Survived'\n",
    "\n",
    "\n",
    "\n",
    "X = Train_Data[Extracted_features].values\n",
    "y = Train_Data[Response].values.reshape(-1,1)\n",
    "\n",
    "X_train, X_test, y_train, y_test = train_test_split(X, y, test_size=0.2, random_state=40)\n",
    "\n",
    "scaler = StandardScaler()\n",
    "X_train = scaler.fit_transform(X_train)\n",
    "X_test = scaler.transform(X_test)\n",
    "\n",
    "X_train_tensor = torch.tensor(X_train, dtype=torch.float32)\n",
    "y_train_tensor = torch.tensor(y_train, dtype=torch.float32)\n",
    "X_test_tensor = torch.tensor(X_test, dtype=torch.float32)\n",
    "y_test_tensor = torch.tensor(y_test, dtype=torch.float32)\n",
    "\n",
    "class NeuralNet(nn.Module):\n",
    "    def __init__(self, input_size, hidden_size1, hidden_size2, output_size):\n",
    "        super(NeuralNet, self).__init__()\n",
    "        self.fc1 = nn.Linear(input_size, hidden_size1)\n",
    "        self.relu1 = nn.ReLU()\n",
    "        self.fc2 = nn.Linear(hidden_size1, hidden_size2)\n",
    "        self.relu2 = nn.ReLU()\n",
    "        self.fc3 = nn.Linear(hidden_size2, output_size)\n",
    "\n",
    "    def forward(self, x):\n",
    "        out = self.fc1(x)\n",
    "        out = self.relu1(out)\n",
    "        out = self.fc2(out)\n",
    "        out = self.relu2(out)\n",
    "        out = self.fc3(out)\n",
    "        return out\n",
    "\n",
    "# Define hyperparameters\n",
    "input_size = len(Extracted_features)\n",
    "hidden_size1 = 64\n",
    "hidden_size2 = 32\n",
    "output_size = 1\n",
    "learning_rate = 0.01\n",
    "num_epochs = 1000\n",
    "\n",
    "# Instantiate the model\n",
    "model = NeuralNet(input_size, hidden_size1, hidden_size2, output_size)\n",
    "\n",
    "# Define loss function and optimizer\n",
    "criterion = nn.BCELoss()\n",
    "optimizer = optim.Adam(model.parameters(), lr=learning_rate)\n",
    "\n",
    "# Train the model\n",
    "for epoch in range(num_epochs):\n",
    "    # Forward pass\n",
    "    outputs = model(X_train_tensor)\n",
    "    outputs = torch.sigmoid(outputs)\n",
    "    loss = criterion(outputs, y_train_tensor)\n",
    "\n",
    "    # Backward pass and optimization\n",
    "    optimizer.zero_grad()\n",
    "    loss.backward()\n",
    "    optimizer.step()\n",
    "\n",
    "    if (epoch+1) % 100 == 0:\n",
    "        print(f'Epoch [{epoch+1}/{num_epochs}], Loss: {loss.item():.4f}')\n",
    "\n",
    "# Evaluate the model\n",
    "with torch.no_grad():\n",
    "    model.eval()\n",
    "    y_pred = model(X_test_tensor)\n",
    "    y_pred = torch.sigmoid(y_pred)\n",
    "    test_loss = criterion(y_pred, y_test_tensor)\n",
    "    print(f'Test Loss: {test_loss.item():.4f}')"
   ]
  },
  {
   "cell_type": "markdown",
   "id": "edf3f6e1-1c2a-4bef-a495-95e83518c2af",
   "metadata": {},
   "source": [
    "## model accuracy"
   ]
  },
  {
   "cell_type": "code",
   "execution_count": 8,
   "id": "46b37c38-29f8-44ad-b533-3cfb4f3b76f5",
   "metadata": {},
   "outputs": [
    {
     "name": "stdout",
     "output_type": "stream",
     "text": [
      "Accuracy: 0.5810\n"
     ]
    }
   ],
   "source": [
    "# Compute accuracy\n",
    "y_pred_binary = (y_pred == 1).float()\n",
    "correct = (y_pred_binary == y_test_tensor).sum().item()\n",
    "total = y_test_tensor.size(0)\n",
    "accuracy = correct / total\n",
    "\n",
    "print(f'Accuracy: {accuracy:.4f}')\n"
   ]
  },
  {
   "cell_type": "code",
   "execution_count": null,
   "id": "e6241803-7ee8-4b3d-afad-8094cdfd48a5",
   "metadata": {},
   "outputs": [],
   "source": []
  }
 ],
 "metadata": {
  "kernelspec": {
   "display_name": "Python 3 (ipykernel)",
   "language": "python",
   "name": "python3"
  },
  "language_info": {
   "codemirror_mode": {
    "name": "ipython",
    "version": 3
   },
   "file_extension": ".py",
   "mimetype": "text/x-python",
   "name": "python",
   "nbconvert_exporter": "python",
   "pygments_lexer": "ipython3",
   "version": "3.11.7"
  }
 },
 "nbformat": 4,
 "nbformat_minor": 5
}
